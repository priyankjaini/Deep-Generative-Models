{
 "cells": [
  {
   "cell_type": "code",
   "execution_count": 1,
   "metadata": {},
   "outputs": [],
   "source": [
    "import numpy as np\n",
    "import torch\n",
    "import torch.nn as nn\n",
    "import torch.nn.functional as F\n",
    "import torch.optim as optim\n",
    "from torch.autograd import Variable"
   ]
  },
  {
   "cell_type": "code",
   "execution_count": 2,
   "metadata": {},
   "outputs": [],
   "source": [
    "def get_distribution_sampler(mu, sigma):\n",
    "    return lambda n: torch.Tensor(np.random.normal(mu, sigma, (1,n)))"
   ]
  },
  {
   "cell_type": "code",
   "execution_count": 4,
   "metadata": {},
   "outputs": [],
   "source": [
    "d_sampler = get_distribution_sampler(4, 1.25)"
   ]
  },
  {
   "cell_type": "code",
   "execution_count": 12,
   "metadata": {},
   "outputs": [
    {
     "name": "stdout",
     "output_type": "stream",
     "text": [
      "<function get_distribution_sampler.<locals>.<lambda> at 0x108aea9d8>\n"
     ]
    }
   ],
   "source": [
    "print(d_sampler)"
   ]
  },
  {
   "cell_type": "code",
   "execution_count": 13,
   "metadata": {},
   "outputs": [
    {
     "ename": "AttributeError",
     "evalue": "'function' object has no attribute 'size'",
     "output_type": "error",
     "traceback": [
      "\u001b[0;31m---------------------------------------------------------------------------\u001b[0m",
      "\u001b[0;31mAttributeError\u001b[0m                            Traceback (most recent call last)",
      "\u001b[0;32m<ipython-input-13-5375c7522d35>\u001b[0m in \u001b[0;36m<module>\u001b[0;34m()\u001b[0m\n\u001b[0;32m----> 1\u001b[0;31m \u001b[0mprint\u001b[0m\u001b[0;34m(\u001b[0m\u001b[0md_sampler\u001b[0m\u001b[0;34m.\u001b[0m\u001b[0msize\u001b[0m\u001b[0;34m(\u001b[0m\u001b[0;34m)\u001b[0m\u001b[0;34m)\u001b[0m\u001b[0;34m\u001b[0m\u001b[0m\n\u001b[0m",
      "\u001b[0;31mAttributeError\u001b[0m: 'function' object has no attribute 'size'"
     ]
    }
   ],
   "source": []
  },
  {
   "cell_type": "code",
   "execution_count": 14,
   "metadata": {},
   "outputs": [],
   "source": [
    "d_real_data =Variable(d_sampler(100))"
   ]
  },
  {
   "cell_type": "code",
   "execution_count": 15,
   "metadata": {},
   "outputs": [
    {
     "name": "stdout",
     "output_type": "stream",
     "text": [
      "tensor([[3.1186, 3.5670, 3.4319, 3.5948, 5.5775, 4.8993, 3.6381, 5.2953, 5.8188,\n",
      "         4.7057, 3.9729, 5.4103, 6.6222, 3.5419, 2.1173, 2.7625, 5.4757, 4.1927,\n",
      "         5.4163, 5.1191, 4.3140, 1.2495, 4.6601, 3.6273, 2.6015, 4.7055, 2.4495,\n",
      "         6.0101, 1.0734, 4.0649, 3.9289, 2.8149, 5.0099, 5.0043, 4.3530, 3.2610,\n",
      "         4.0314, 4.6076, 3.3756, 3.1255, 3.7166, 4.6817, 3.9788, 4.2301, 3.6527,\n",
      "         3.2645, 4.8781, 3.2392, 4.7938, 4.7561, 3.6756, 4.2111, 4.3034, 3.1553,\n",
      "         3.8651, 3.7666, 3.1541, 3.8603, 2.6233, 5.4059, 4.3326, 1.7625, 4.6572,\n",
      "         5.4051, 2.9876, 5.4184, 4.0101, 2.9807, 3.2056, 4.5541, 3.6636, 4.8464,\n",
      "         3.2374, 2.0501, 3.0396, 3.9515, 3.4419, 3.5179, 6.0646, 3.4344, 3.7969,\n",
      "         3.8124, 4.0392, 3.0589, 3.7983, 3.6434, 6.4548, 5.1188, 2.9975, 6.2688,\n",
      "         3.6382, 2.4065, 4.1660, 3.1111, 5.0099, 3.2204, 3.7041, 4.2066, 5.4231,\n",
      "         4.7312]])\n"
     ]
    }
   ],
   "source": [
    "print(d_real_data)"
   ]
  },
  {
   "cell_type": "code",
   "execution_count": 16,
   "metadata": {},
   "outputs": [
    {
     "name": "stdout",
     "output_type": "stream",
     "text": [
      "torch.Size([1, 100])\n"
     ]
    }
   ],
   "source": [
    "print(d_real_data.size())"
   ]
  },
  {
   "cell_type": "code",
   "execution_count": 23,
   "metadata": {},
   "outputs": [],
   "source": [
    "def get_generator_input_sampler():\n",
    "    return lambda n: torch.Tensor(np.random.normal(0, 1, (n,1)))\n",
    "gi_sampler = get_generator_input_sampler()"
   ]
  },
  {
   "cell_type": "code",
   "execution_count": 24,
   "metadata": {},
   "outputs": [],
   "source": [
    "d_gen_input = Variable(gi_sampler(100))"
   ]
  },
  {
   "cell_type": "code",
   "execution_count": 25,
   "metadata": {},
   "outputs": [
    {
     "name": "stdout",
     "output_type": "stream",
     "text": [
      "torch.Size([100, 1])\n"
     ]
    }
   ],
   "source": [
    "print(d_gen_input.size())"
   ]
  },
  {
   "cell_type": "code",
   "execution_count": null,
   "metadata": {},
   "outputs": [],
   "source": []
  }
 ],
 "metadata": {
  "kernelspec": {
   "display_name": "Python 3",
   "language": "python",
   "name": "python3"
  },
  "language_info": {
   "codemirror_mode": {
    "name": "ipython",
    "version": 3
   },
   "file_extension": ".py",
   "mimetype": "text/x-python",
   "name": "python",
   "nbconvert_exporter": "python",
   "pygments_lexer": "ipython3",
   "version": "3.6.6"
  }
 },
 "nbformat": 4,
 "nbformat_minor": 2
}
